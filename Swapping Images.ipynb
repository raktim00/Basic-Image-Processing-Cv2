{
 "cells": [
  {
   "cell_type": "markdown",
   "id": "57f5fee3",
   "metadata": {},
   "source": [
    "## Importing the libraries"
   ]
  },
  {
   "cell_type": "code",
   "execution_count": 1,
   "id": "037c7d9e",
   "metadata": {},
   "outputs": [],
   "source": [
    "import numpy as np\n",
    "import cv2"
   ]
  },
  {
   "cell_type": "markdown",
   "id": "8752d157",
   "metadata": {},
   "source": [
    "## Storing Image1 in a variable & displaying it"
   ]
  },
  {
   "cell_type": "code",
   "execution_count": 2,
   "id": "975839c4",
   "metadata": {},
   "outputs": [],
   "source": [
    "image1 = cv2.imread(\"image1.jpg\")\n",
    "cv2.imshow(\"1st Image\", image1)\n",
    "cv2.waitKey()\n",
    "cv2.destroyAllWindows()"
   ]
  },
  {
   "cell_type": "markdown",
   "id": "12b7f5f6",
   "metadata": {},
   "source": [
    "## Storing Image2 in a variable & displaying it"
   ]
  },
  {
   "cell_type": "code",
   "execution_count": 3,
   "id": "4080fd97",
   "metadata": {},
   "outputs": [],
   "source": [
    "image2 = cv2.imread(\"image2.jpg\")\n",
    "cv2.imshow(\"2nd Image\", image2)\n",
    "cv2.waitKey()\n",
    "cv2.destroyAllWindows()"
   ]
  },
  {
   "cell_type": "markdown",
   "id": "b28fa33e",
   "metadata": {},
   "source": [
    "## Cropping 1st Image & showing only the photo frame"
   ]
  },
  {
   "cell_type": "code",
   "execution_count": 4,
   "id": "1807eb11",
   "metadata": {},
   "outputs": [],
   "source": [
    "image1_cropped = image1[60:410,190:610]\n",
    "cv2.imshow(\"1st Cropped Image\", image1_cropped)\n",
    "cv2.waitKey()\n",
    "cv2.destroyAllWindows()"
   ]
  },
  {
   "cell_type": "markdown",
   "id": "85f0fa37",
   "metadata": {},
   "source": [
    "## Cropping 2nd Image & showing only the photo frame"
   ]
  },
  {
   "cell_type": "code",
   "execution_count": 5,
   "id": "4ee8d7bf",
   "metadata": {},
   "outputs": [],
   "source": [
    "image2_cropped = image2[110:385,200:564]\n",
    "cv2.imshow(\"2nd Cropped Image\", image2_cropped)\n",
    "cv2.waitKey()\n",
    "cv2.destroyAllWindows()"
   ]
  },
  {
   "cell_type": "markdown",
   "id": "c6e1c0db",
   "metadata": {},
   "source": [
    "## Resizing both cropped frames"
   ]
  },
  {
   "cell_type": "code",
   "execution_count": 6,
   "id": "e2e3ac83",
   "metadata": {},
   "outputs": [],
   "source": [
    "image1_resized = cv2.resize(image1_cropped,(image2_cropped.shape[1],image2_cropped.shape[0]))\n",
    "image2_resized = cv2.resize(image2_cropped,(image1_cropped.shape[1],image1_cropped.shape[0]))"
   ]
  },
  {
   "cell_type": "markdown",
   "id": "1ba325df",
   "metadata": {},
   "source": [
    "## Swapping the photo frame & Showing 1st updated image"
   ]
  },
  {
   "cell_type": "code",
   "execution_count": 7,
   "id": "9aeb7e70",
   "metadata": {},
   "outputs": [],
   "source": [
    "image1[60:410,190:610] = image2_resized\n",
    "cv2.imshow(\"1st Image\", image1)\n",
    "cv2.waitKey()\n",
    "cv2.destroyAllWindows()"
   ]
  },
  {
   "cell_type": "markdown",
   "id": "5ebdb144",
   "metadata": {},
   "source": [
    "## Swapping the photo frame & Showing 1st updated image"
   ]
  },
  {
   "cell_type": "code",
   "execution_count": 8,
   "id": "d687da14",
   "metadata": {},
   "outputs": [],
   "source": [
    "image2[110:385,200:564] = image1_resized\n",
    "cv2.imshow(\"1st Image\", image2)\n",
    "cv2.waitKey()\n",
    "cv2.destroyAllWindows()"
   ]
  },
  {
   "cell_type": "markdown",
   "id": "31240607",
   "metadata": {},
   "source": [
    "## Saving both the new images"
   ]
  },
  {
   "cell_type": "code",
   "execution_count": 9,
   "id": "d2bf7223",
   "metadata": {},
   "outputs": [
    {
     "data": {
      "text/plain": [
       "True"
      ]
     },
     "execution_count": 9,
     "metadata": {},
     "output_type": "execute_result"
    }
   ],
   "source": [
    "cv2.imwrite(\"image1_new.jpg\", image1)\n",
    "cv2.imwrite(\"image2_new.jpg\", image2)"
   ]
  },
  {
   "cell_type": "code",
   "execution_count": null,
   "id": "a7ada95a",
   "metadata": {},
   "outputs": [],
   "source": []
  }
 ],
 "metadata": {
  "kernelspec": {
   "display_name": "Python 3",
   "language": "python",
   "name": "python3"
  },
  "language_info": {
   "codemirror_mode": {
    "name": "ipython",
    "version": 3
   },
   "file_extension": ".py",
   "mimetype": "text/x-python",
   "name": "python",
   "nbconvert_exporter": "python",
   "pygments_lexer": "ipython3",
   "version": "3.8.10"
  }
 },
 "nbformat": 4,
 "nbformat_minor": 5
}
