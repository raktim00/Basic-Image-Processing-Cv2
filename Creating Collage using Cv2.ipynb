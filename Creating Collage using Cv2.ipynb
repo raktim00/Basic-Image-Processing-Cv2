{
 "cells": [
  {
   "cell_type": "markdown",
   "id": "3381d99a",
   "metadata": {},
   "source": [
    "## Importing the libraries"
   ]
  },
  {
   "cell_type": "code",
   "execution_count": 1,
   "id": "0b328958",
   "metadata": {},
   "outputs": [],
   "source": [
    "import numpy as np\n",
    "import cv2"
   ]
  },
  {
   "cell_type": "markdown",
   "id": "e503405e",
   "metadata": {},
   "source": [
    "## Showing 1st Image using Cv2"
   ]
  },
  {
   "cell_type": "code",
   "execution_count": 2,
   "id": "2d95c201",
   "metadata": {},
   "outputs": [],
   "source": [
    "dave = cv2.imread(\"dave_image.jpg\")\n",
    "cv2.imshow(\"Hey There, I'm Dave\", dave)\n",
    "cv2.waitKey()\n",
    "cv2.destroyAllWindows()"
   ]
  },
  {
   "cell_type": "code",
   "execution_count": null,
   "id": "502b0562",
   "metadata": {},
   "outputs": [],
   "source": [
    "dave.shape"
   ]
  },
  {
   "cell_type": "markdown",
   "id": "0786bb79",
   "metadata": {},
   "source": [
    "## Showing 2nd Image using Cv2"
   ]
  },
  {
   "cell_type": "code",
   "execution_count": 3,
   "id": "1a2f8845",
   "metadata": {},
   "outputs": [],
   "source": [
    "kevin = cv2.imread(\"kevin_image.jpg\")\n",
    "cv2.imshow(\"Hello Everyone, I'm Kevin\", kevin)\n",
    "cv2.waitKey()\n",
    "cv2.destroyAllWindows()"
   ]
  },
  {
   "cell_type": "code",
   "execution_count": null,
   "id": "88acce27",
   "metadata": {},
   "outputs": [],
   "source": [
    "kevin.shape"
   ]
  },
  {
   "cell_type": "markdown",
   "id": "9aa6bcfb",
   "metadata": {},
   "source": [
    "## Creating Collage"
   ]
  },
  {
   "cell_type": "code",
   "execution_count": 4,
   "id": "8487e477",
   "metadata": {},
   "outputs": [],
   "source": [
    "collage = np.hstack((kevin,dave))\n",
    "cv2.imshow(\"We are friends\", collage)\n",
    "cv2.waitKey()\n",
    "cv2.destroyAllWindows()"
   ]
  },
  {
   "cell_type": "code",
   "execution_count": 5,
   "id": "0932344e",
   "metadata": {},
   "outputs": [],
   "source": [
    "collage = np.hstack((dave,kevin))\n",
    "cv2.imshow(\"We are friends\", collage)\n",
    "cv2.waitKey()\n",
    "cv2.destroyAllWindows()"
   ]
  },
  {
   "cell_type": "code",
   "execution_count": 6,
   "id": "0274ff7d",
   "metadata": {},
   "outputs": [
    {
     "data": {
      "text/plain": [
       "True"
      ]
     },
     "execution_count": 6,
     "metadata": {},
     "output_type": "execute_result"
    }
   ],
   "source": [
    "cv2.imwrite(\"dave_kevin.jpg\", collage)"
   ]
  },
  {
   "cell_type": "code",
   "execution_count": null,
   "id": "26cdd546",
   "metadata": {},
   "outputs": [],
   "source": []
  }
 ],
 "metadata": {
  "kernelspec": {
   "display_name": "Python 3",
   "language": "python",
   "name": "python3"
  },
  "language_info": {
   "codemirror_mode": {
    "name": "ipython",
    "version": 3
   },
   "file_extension": ".py",
   "mimetype": "text/x-python",
   "name": "python",
   "nbconvert_exporter": "python",
   "pygments_lexer": "ipython3",
   "version": "3.8.10"
  }
 },
 "nbformat": 4,
 "nbformat_minor": 5
}
