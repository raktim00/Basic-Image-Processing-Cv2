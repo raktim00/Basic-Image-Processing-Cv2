{
 "cells": [
  {
   "cell_type": "markdown",
   "id": "5c8059dd",
   "metadata": {},
   "source": [
    "## Importing the libraries"
   ]
  },
  {
   "cell_type": "code",
   "execution_count": 1,
   "id": "06306d54",
   "metadata": {},
   "outputs": [],
   "source": [
    "import numpy as np\n",
    "import cv2"
   ]
  },
  {
   "cell_type": "markdown",
   "id": "fae8a101",
   "metadata": {},
   "source": [
    "## Creating the image using OpenCV"
   ]
  },
  {
   "cell_type": "code",
   "execution_count": 2,
   "id": "6ced0abb",
   "metadata": {},
   "outputs": [],
   "source": [
    "photo = np.zeros((500,700,3))"
   ]
  },
  {
   "cell_type": "markdown",
   "id": "8106f511",
   "metadata": {},
   "source": [
    "## Drawing Circles on top of the Image"
   ]
  },
  {
   "cell_type": "code",
   "execution_count": 4,
   "id": "b0950f5b",
   "metadata": {},
   "outputs": [],
   "source": [
    "photo = cv2.circle(photo, (115,80),50,(0, 0, 255),-1)\n",
    "photo = cv2.circle(photo, (205,250),80,(0,255,0),-1)\n",
    "photo = cv2.circle(photo, (40,300),65,(0,255,255),-1)\n",
    "photo = cv2.circle(photo, (10,10),55,(128,255,0),-1)\n",
    "photo = cv2.circle(photo, (250,20),65,(255,0,255),-1)"
   ]
  },
  {
   "cell_type": "markdown",
   "id": "19e0831b",
   "metadata": {},
   "source": [
    "## Drawing lines from those circles"
   ]
  },
  {
   "cell_type": "code",
   "execution_count": 6,
   "id": "cb2e4d19",
   "metadata": {},
   "outputs": [],
   "source": [
    "photo = cv2.line(photo,(115,80),(115,500),(50,220,245),12)\n",
    "photo = cv2.line(photo,(205,250),(205,500),(255,0,255),20)\n",
    "photo = cv2.line(photo,(40,300),(40,500),(255,0,0),13)\n",
    "photo = cv2.line(photo,(10,10),(10,500),(0, 0, 255),12)\n",
    "photo = cv2.line(photo,(250,20),(250,500),(0,128,128),15)"
   ]
  },
  {
   "cell_type": "markdown",
   "id": "3ee1fe68",
   "metadata": {},
   "source": [
    "## Drawing lines for rectangles"
   ]
  },
  {
   "cell_type": "code",
   "execution_count": 8,
   "id": "a95f93d0",
   "metadata": {},
   "outputs": [],
   "source": [
    "photo = cv2.line(photo,(395,100),(395,500),(0,255,0),11)\n",
    "photo = cv2.line(photo,(450,255),(450,500),(0,128,128),15)\n",
    "photo = cv2.line(photo,(560,45),(560,500),(128,255,0),20)\n",
    "photo = cv2.line(photo,(650,280),(650,500),(0,0,255),20)"
   ]
  },
  {
   "cell_type": "markdown",
   "id": "4edf0391",
   "metadata": {},
   "source": [
    "## Drawing Rectangles"
   ]
  },
  {
   "cell_type": "code",
   "execution_count": 9,
   "id": "300aca18",
   "metadata": {},
   "outputs": [],
   "source": [
    "photo = cv2.rectangle(photo, (345,50),(445,150),(255,0,255),-1)\n",
    "photo = cv2.rectangle(photo, (375,180),(525,330),(255,0,0),-1)\n",
    "photo = cv2.rectangle(photo, (475,0),(645,90),(0,0,255),-1)\n",
    "photo = cv2.rectangle(photo, (600,200),(700,360),(255,255,255),-1)"
   ]
  },
  {
   "cell_type": "markdown",
   "id": "d7802d3a",
   "metadata": {},
   "source": [
    "## Opening the image in a Window"
   ]
  },
  {
   "cell_type": "code",
   "execution_count": 10,
   "id": "79cbeb8c",
   "metadata": {},
   "outputs": [],
   "source": [
    "cv2.imshow(\"Abstract Created by Raktim using OpenCV\",photo)\n",
    "if cv2.waitKey() == 13:\n",
    "    cv2.destroyAllWindows()"
   ]
  },
  {
   "cell_type": "markdown",
   "id": "e2ffc23f",
   "metadata": {},
   "source": [
    "## Saving the image"
   ]
  },
  {
   "cell_type": "code",
   "execution_count": 11,
   "id": "ff3ae9a8",
   "metadata": {},
   "outputs": [
    {
     "data": {
      "text/plain": [
       "True"
      ]
     },
     "execution_count": 11,
     "metadata": {},
     "output_type": "execute_result"
    }
   ],
   "source": [
    "cv2.imwrite(\"abstract.jpg\", photo)"
   ]
  },
  {
   "cell_type": "code",
   "execution_count": null,
   "id": "fd85b95c",
   "metadata": {},
   "outputs": [],
   "source": []
  }
 ],
 "metadata": {
  "kernelspec": {
   "display_name": "Python 3",
   "language": "python",
   "name": "python3"
  },
  "language_info": {
   "codemirror_mode": {
    "name": "ipython",
    "version": 3
   },
   "file_extension": ".py",
   "mimetype": "text/x-python",
   "name": "python",
   "nbconvert_exporter": "python",
   "pygments_lexer": "ipython3",
   "version": "3.8.10"
  }
 },
 "nbformat": 4,
 "nbformat_minor": 5
}
